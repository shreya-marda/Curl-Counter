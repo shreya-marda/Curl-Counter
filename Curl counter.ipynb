{
 "cells": [
  {
   "cell_type": "markdown",
   "id": "eca52c16",
   "metadata": {},
   "source": [
    "!pip install mediapipe opencv-python\n",
    "!pip install protobuf==3.20."
   ]
  },
  {
   "cell_type": "code",
   "execution_count": 1,
   "id": "2691fe43",
   "metadata": {},
   "outputs": [],
   "source": [
    "import cv2\n",
    "import mediapipe as mp\n",
    "import numpy as np\n",
    "mp_drawing = mp.solutions.drawing_utils\n",
    "mp_pose = mp.solutions.pose"
   ]
  },
  {
   "cell_type": "code",
   "execution_count": 2,
   "id": "569deb37",
   "metadata": {},
   "outputs": [
    {
     "ename": "error",
     "evalue": "OpenCV(4.7.0) D:\\a\\opencv-python\\opencv-python\\opencv\\modules\\highgui\\src\\window.cpp:971: error: (-215:Assertion failed) size.width>0 && size.height>0 in function 'cv::imshow'\n",
     "output_type": "error",
     "traceback": [
      "\u001b[1;31m---------------------------------------------------------------------------\u001b[0m",
      "\u001b[1;31merror\u001b[0m                                     Traceback (most recent call last)",
      "Cell \u001b[1;32mIn [2], line 9\u001b[0m\n\u001b[0;32m      6\u001b[0m ret,frame \u001b[38;5;241m=\u001b[39m cap\u001b[38;5;241m.\u001b[39mread()\n\u001b[0;32m      7\u001b[0m \u001b[38;5;66;03m#cv2.imshow gives us the pop on the screen which will ask to visualise a particular image\u001b[39;00m\n\u001b[0;32m      8\u001b[0m \u001b[38;5;66;03m#we pass the frame name as 'MediaPipe Feed' here in the brackets \u001b[39;00m\n\u001b[1;32m----> 9\u001b[0m \u001b[43mcv2\u001b[49m\u001b[38;5;241;43m.\u001b[39;49m\u001b[43mimshow\u001b[49m\u001b[43m(\u001b[49m\u001b[38;5;124;43m'\u001b[39;49m\u001b[38;5;124;43mMediaPipe Feed\u001b[39;49m\u001b[38;5;124;43m'\u001b[39;49m\u001b[43m,\u001b[49m\u001b[43mframe\u001b[49m\u001b[43m)\u001b[49m\n\u001b[0;32m     11\u001b[0m \u001b[38;5;66;03m#cv2 waitkey() allows you to wait for a specific time in milliseconds until you press any button on the keyword.\u001b[39;00m\n\u001b[0;32m     12\u001b[0m \u001b[38;5;66;03m#press q to exit the window\u001b[39;00m\n\u001b[0;32m     13\u001b[0m \u001b[38;5;28;01mif\u001b[39;00m cv2\u001b[38;5;241m.\u001b[39mwaitKey(\u001b[38;5;241m10\u001b[39m) \u001b[38;5;241m&\u001b[39m \u001b[38;5;241m0xFF\u001b[39m \u001b[38;5;241m==\u001b[39m \u001b[38;5;28mord\u001b[39m(\u001b[38;5;124m'\u001b[39m\u001b[38;5;124mq\u001b[39m\u001b[38;5;124m'\u001b[39m):\n",
      "\u001b[1;31merror\u001b[0m: OpenCV(4.7.0) D:\\a\\opencv-python\\opencv-python\\opencv\\modules\\highgui\\src\\window.cpp:971: error: (-215:Assertion failed) size.width>0 && size.height>0 in function 'cv::imshow'\n"
     ]
    }
   ],
   "source": [
    "\n",
    "#to get realtime video feed from webcam\n",
    "cap = cv2.VideoCapture(0) #setting up video capture device (number 0 represents webcam)\n",
    "#while we are capturing\n",
    "while cap.isOpened():\n",
    "    #ret is return variable, frame will give us the image from webcam\n",
    "    ret,frame = cap.read()\n",
    "    #cv2.imshow gives us the pop on the screen which will ask to visualise a particular image\n",
    "    #we pass the frame name as 'MediaPipe Feed' here in the brackets \n",
    "    cv2.imshow('MediaPipe Feed',frame)\n",
    "    \n",
    "    #cv2 waitkey() allows you to wait for a specific time in milliseconds until you press any button on the keyword.\n",
    "    #press q to exit the window\n",
    "    if cv2.waitKey(10) & 0xFF == ord('q'):\n",
    "        break\n",
    "cap.release()\n",
    "cv2.destroyAllWindows()\n"
   ]
  },
  {
   "cell_type": "markdown",
   "id": "d6f5bcee",
   "metadata": {},
   "source": [
    "## Make Detections"
   ]
  },
  {
   "cell_type": "code",
   "execution_count": null,
   "id": "7f87d5d7",
   "metadata": {},
   "outputs": [],
   "source": [
    "cap = cv2.VideoCapture(0)\n",
    "#setup mediapipe instance\n",
    "#detection confidence and tracking confience\n",
    "#setting up really high detection would only show results when clearly body is visible and setting it up too low will not give us accuarte results\n",
    "#So setting it 0.5 works pretty well(50%)\n",
    "with mp_pose.Pose(min_detection_confidence=0.5, min_tracking_confidence=0.5) as pose:\n",
    "    while cap.isOpened():\n",
    "        ret, frame = cap.read()\n",
    "        \n",
    "        #Detect stuff and render\n",
    "        \n",
    "        #the feed is by default in the format of BGR color arrays\n",
    "        #Recolor image - we do this because when pass our imagein media pipe we need it in RGB format\n",
    "        image = cv2.cvtColor(frame, cv2.COLOR_BGR2RGB) #reordering the colors to RGB\n",
    "        image.flags.writeable = False #setting writebale false, we are basiccaly gonna save a bunch of memory once we pass this to pose estimation model\n",
    "        \n",
    "        #Make detection and storing in results\n",
    "        results = pose.process(image)\n",
    "        \n",
    "        #image writeable true and again recolor the image to BGR(feed/prev format)\n",
    "        image.flags.writeable = True\n",
    "        image = cv2.cvtColor(image, cv2.COLOR_RGB2BGR)\n",
    "        \n",
    "        #Render detections\n",
    "        mp_drawing.draw_landmarks(image, results.pose_landmarks, mp_pose.POSE_CONNECTIONS,\n",
    "                                 mp_drawing.DrawingSpec(color=(245,117,66),thickness=2,circle_radius=2), #drawing_sepcs = drawing specifications\n",
    "                                 mp_drawing.DrawingSpec(color=(245,66,130),thickness=2,circle_radius=2)\n",
    "                                 ) #drawing_sepcs = drawing specifications\n",
    "        \n",
    "        #print(results)\n",
    "        \n",
    "        cv2.imshow('MediaPipe Feed', image) #changed frame to image to pass the image labelled above\n",
    "\n",
    "        if cv2.waitKey(10) & 0xFF==ord('q'):\n",
    "            break\n",
    "\n",
    "    cap.release()\n",
    "    cv2.destroyAllWindows()"
   ]
  },
  {
   "cell_type": "code",
   "execution_count": null,
   "id": "6c18a9e5",
   "metadata": {},
   "outputs": [],
   "source": [
    "# mp_drawing.draw_landmarks??"
   ]
  },
  {
   "cell_type": "code",
   "execution_count": null,
   "id": "5ba81fc8",
   "metadata": {},
   "outputs": [],
   "source": [
    "# results.pose_landmarks"
   ]
  },
  {
   "cell_type": "code",
   "execution_count": null,
   "id": "71abc310",
   "metadata": {},
   "outputs": [],
   "source": [
    "# mp_pose.POSE_CONNECTIONS"
   ]
  },
  {
   "cell_type": "markdown",
   "id": "b3c71124",
   "metadata": {},
   "source": [
    "## Determining joints\n",
    "\n",
    "![Image](Image.jpg) "
   ]
  },
  {
   "cell_type": "code",
   "execution_count": null,
   "id": "ab560ccf",
   "metadata": {},
   "outputs": [],
   "source": [
    "cap = cv2.VideoCapture(0)\n",
    "\n",
    "with mp_pose.Pose(min_detection_confidence=0.5, min_tracking_confidence=0.5) as pose:\n",
    "    while cap.isOpened():\n",
    "        ret, frame = cap.read()\n",
    "        \n",
    "        image = cv2.cvtColor(frame, cv2.COLOR_BGR2RGB) \n",
    "        image.flags.writeable = False \n",
    "        \n",
    "\n",
    "        results = pose.process(image)\n",
    "        \n",
    "        \n",
    "        image.flags.writeable = True\n",
    "        image = cv2.cvtColor(image, cv2.COLOR_RGB2BGR)\n",
    "        \n",
    "        # Extract landmarks \n",
    "        # If we are not able to make any specific detections, we can just pass instead of destroying the entire feed\n",
    "        try:\n",
    "            landmarks = results.pose_landmarks.landmark\n",
    "            print(landmarks)\n",
    "        except:\n",
    "            pass\n",
    "\n",
    "        mp_drawing.draw_landmarks(image, results.pose_landmarks, mp_pose.POSE_CONNECTIONS,\n",
    "                                 mp_drawing.DrawingSpec(color=(245,117,66),thickness=2,circle_radius=2), #drawing_sepcs = drawing specifications\n",
    "                                 mp_drawing.DrawingSpec(color=(245,66,130),thickness=2,circle_radius=2)\n",
    "                                 ) #drawing_sepcs = drawing specifications\n",
    "        \n",
    "        \n",
    "        cv2.imshow('MediaPipe Feed', image) #changed frame to image to pass the image labelled above\n",
    "\n",
    "        if cv2.waitKey(10) & 0xFF==ord('q'):\n",
    "            break\n",
    "\n",
    "    cap.release()\n",
    "    cv2.destroyAllWindows()"
   ]
  },
  {
   "cell_type": "code",
   "execution_count": null,
   "id": "e4ac4ab5",
   "metadata": {},
   "outputs": [],
   "source": [
    "landmarks"
   ]
  },
  {
   "cell_type": "code",
   "execution_count": null,
   "id": "f302eef4",
   "metadata": {},
   "outputs": [],
   "source": [
    "len(landmarks) #same as the markdown image above"
   ]
  },
  {
   "cell_type": "code",
   "execution_count": null,
   "id": "21597760",
   "metadata": {},
   "outputs": [],
   "source": [
    "for lm in mp_pose.PoseLandmark: #lm is landmark\n",
    "    print(lm)"
   ]
  },
  {
   "cell_type": "code",
   "execution_count": null,
   "id": "bc655780",
   "metadata": {},
   "outputs": [],
   "source": [
    "landmarks[mp_pose.PoseLandmark.LEFT_SHOULDER.value]"
   ]
  },
  {
   "cell_type": "code",
   "execution_count": null,
   "id": "bc8fc642",
   "metadata": {},
   "outputs": [],
   "source": [
    "mp_pose.PoseLandmark.LEFT_SHOULDER.value"
   ]
  },
  {
   "cell_type": "code",
   "execution_count": null,
   "id": "b5331ba2",
   "metadata": {},
   "outputs": [],
   "source": [
    "landmarks[mp_pose.PoseLandmark.LEFT_ELBOW.value].x"
   ]
  },
  {
   "cell_type": "code",
   "execution_count": null,
   "id": "336091dd",
   "metadata": {},
   "outputs": [],
   "source": [
    "landmarks[mp_pose.PoseLandmark.LEFT_ELBOW.value].y"
   ]
  },
  {
   "cell_type": "code",
   "execution_count": null,
   "id": "b226350b",
   "metadata": {},
   "outputs": [],
   "source": [
    "landmarks[mp_pose.PoseLandmark.LEFT_ELBOW.value].visibility"
   ]
  },
  {
   "cell_type": "code",
   "execution_count": null,
   "id": "054b6826",
   "metadata": {},
   "outputs": [],
   "source": [
    "landmarks[mp_pose.PoseLandmark.LEFT_WRIST.value]"
   ]
  },
  {
   "cell_type": "markdown",
   "id": "20208bd3",
   "metadata": {},
   "source": [
    "## Calculating Angles"
   ]
  },
  {
   "cell_type": "code",
   "execution_count": null,
   "id": "1cbbc45b",
   "metadata": {},
   "outputs": [],
   "source": [
    "#if you are calculating something that ranges between -90 and 90 degrees like latitude, use arctan. If calculating an angle that can be between -180 and 180 degrees, use arctan2.\n",
    "def calculateAngle(a,b,c):\n",
    "    a = np.array(a) #first\n",
    "    b = np.array(b) #mid\n",
    "    c = np.array(c) #end\n",
    "    \n",
    "    radians = np.arctan2(c[1]-b[1],c[0]-b[0]) - np.arctan2(a[1]-b[1],a[0]-b[0])\n",
    "    angle = np.abs(radians*180.0/np.pi)\n",
    "    \n",
    "    if angle>180:\n",
    "        angle = 360 - angle\n",
    "    \n",
    "    return angle"
   ]
  },
  {
   "cell_type": "code",
   "execution_count": null,
   "id": "e968d116",
   "metadata": {},
   "outputs": [],
   "source": [
    "#these are the coordinates based on the size of the image\n",
    "shoulder = [landmarks[mp_pose.PoseLandmark.LEFT_SHOULDER.value].x,landmarks[mp_pose.PoseLandmark.LEFT_SHOULDER.value].y]\n",
    "elbow = [landmarks[mp_pose.PoseLandmark.LEFT_ELBOW.value].x,landmarks[mp_pose.PoseLandmark.LEFT_ELBOW.value].y]\n",
    "wrist = [landmarks[mp_pose.PoseLandmark.LEFT_WRIST.value].x,landmarks[mp_pose.PoseLandmark.LEFT_WRIST.value].y]"
   ]
  },
  {
   "cell_type": "code",
   "execution_count": null,
   "id": "c20d03b2",
   "metadata": {},
   "outputs": [],
   "source": [
    "shoulder, elbow, wrist"
   ]
  },
  {
   "cell_type": "code",
   "execution_count": null,
   "id": "1902b990",
   "metadata": {},
   "outputs": [],
   "source": [
    "calculateAngle(shoulder, elbow, wrist) #calculates the angle"
   ]
  },
  {
   "cell_type": "code",
   "execution_count": null,
   "id": "e2bfad76",
   "metadata": {},
   "outputs": [],
   "source": [
    "np.multiply(elbow, [640,480]).astype(int) #this multiplication gives us the coordinates wrt to the dimensions of the webcam"
   ]
  },
  {
   "cell_type": "code",
   "execution_count": null,
   "id": "a44dfd87",
   "metadata": {},
   "outputs": [],
   "source": [
    "\n",
    "\"\"\"\n",
    "cap = cv2.VideoCapture(0)\n",
    "\n",
    "with mp_pose.Pose(min_detection_confidence=0.5, min_tracking_confidence=0.5) as pose:\n",
    "    while cap.isOpened():\n",
    "        ret, frame = cap.read()\n",
    "        \n",
    "        image = cv2.cvtColor(frame, cv2.COLOR_BGR2RGB) \n",
    "        image.flags.writeable = False \n",
    "        \n",
    "\n",
    "        results = pose.process(image)\n",
    "        \n",
    "        \n",
    "        image.flags.writeable = True\n",
    "        image = cv2.cvtColor(image, cv2.COLOR_RGB2BGR)\n",
    "        \n",
    "        # Extract landmarks \n",
    "        # If we are not able to make any specific detections, we can just pass instead of destroying the entire feed\n",
    "        try:\n",
    "            landmarks = results.pose_landmarks.landmark\n",
    "            #Get cooridnates\n",
    "            shoulder = [landmarks[mp_pose.PoseLandmark.LEFT_SHOULDER.value].x,landmarks[mp_pose.PoseLandmark.LEFT_SHOULDER.value].y]\n",
    "            elbow = [landmarks[mp_pose.PoseLandmark.LEFT_ELBOW.value].x,landmarks[mp_pose.PoseLandmark.LEFT_ELBOW.value].y]\n",
    "            wrist = [landmarks[mp_pose.PoseLandmark.LEFT_WRIST.value].x,landmarks[mp_pose.PoseLandmark.LEFT_WRIST.value].y]\n",
    "            \n",
    "            #Calculate angle\n",
    "            angle = calculateAngle(shoulder, elbow, wrist)\n",
    "            \n",
    "            #Visualise \n",
    "            #[640,480] are the dimensions of the webcam \n",
    "            #We are using elbow as the angle is calculated at the elbow\n",
    "            cv2.putText(image, str(angle),\n",
    "                            tuple(np.multiply(elbow, [640,480]).astype(int),\n",
    "                            cv2.FONT_HERSHEY_SIMPLEX, 0.5, (255,255,255),2, cv2.LINE_AA)\n",
    "                       )\n",
    "            print(landmarks)\n",
    "        except:\n",
    "            pass\n",
    "\n",
    "        mp_drawing.draw_landmarks(image, results.pose_landmarks, mp_pose.POSE_CONNECTIONS,\n",
    "                                 mp_drawing.DrawingSpec(color=(245,117,66),thickness=2,circle_radius=2), #drawing_sepcs = drawing specifications\n",
    "                                 mp_drawing.DrawingSpec(color=(245,66,130),thickness=2,circle_radius=2)\n",
    "                                 ) #drawing_sepcs = drawing specifications\n",
    "        \n",
    "        \n",
    "        cv2.imshow('MediaPipe Feed', image) #changed frame to image to pass the image labelled above\n",
    "\n",
    "        if cv2.waitKey(10) & 0xFF==ord('q'):\n",
    "            break\n",
    "\n",
    "    cap.release()\n",
    "    cv2.destroyAllWindows()\n",
    "\"\"\""
   ]
  },
  {
   "cell_type": "markdown",
   "id": "1924ea8e",
   "metadata": {},
   "source": [
    "## Curl counter"
   ]
  },
  {
   "cell_type": "code",
   "execution_count": null,
   "id": "d60e6445",
   "metadata": {},
   "outputs": [],
   "source": [
    "cap = cv2.VideoCapture(0)\n",
    "\n",
    "counter = 0\n",
    "stage = None\n",
    "\n",
    "## Setup mediapipe instance\n",
    "with mp_pose.Pose(min_detection_confidence=0.5, min_tracking_confidence=0.5) as pose:\n",
    "    while cap.isOpened():\n",
    "        ret, frame = cap.read()\n",
    "        \n",
    "        # Recolor image to RGB\n",
    "        image = cv2.cvtColor(frame, cv2.COLOR_BGR2RGB)\n",
    "        image.flags.writeable = False\n",
    "      \n",
    "        # Make detection\n",
    "        results = pose.process(image)\n",
    "    \n",
    "        # Recolor back to BGR\n",
    "        image.flags.writeable = True\n",
    "        image = cv2.cvtColor(image, cv2.COLOR_RGB2BGR)\n",
    "        \n",
    "        # Extract landmarks\n",
    "        try:\n",
    "            landmarks = results.pose_landmarks.landmark\n",
    "            \n",
    "            # Get coordinates\n",
    "            shoulder = [landmarks[mp_pose.PoseLandmark.LEFT_SHOULDER.value].x,landmarks[mp_pose.PoseLandmark.LEFT_SHOULDER.value].y]\n",
    "            elbow = [landmarks[mp_pose.PoseLandmark.LEFT_ELBOW.value].x,landmarks[mp_pose.PoseLandmark.LEFT_ELBOW.value].y]\n",
    "            wrist = [landmarks[mp_pose.PoseLandmark.LEFT_WRIST.value].x,landmarks[mp_pose.PoseLandmark.LEFT_WRIST.value].y]\n",
    "            \n",
    "            # Calculate angle\n",
    "            angle = calculate_angle(shoulder, elbow, wrist)\n",
    "            \n",
    "            # Visualize angle\n",
    "            cv2.putText(image, str(angle), \n",
    "                           tuple(np.multiply(elbow, [640, 480]).astype(int)), \n",
    "                           cv2.FONT_HERSHEY_SIMPLEX, 0.5, (255, 255, 255), 2, cv2.LINE_AA\n",
    "                                )\n",
    "            \n",
    "            #curl counter\n",
    "            if angle>160:\n",
    "                stage=\"down\"\n",
    "            if angle<30 and stage=='down': #come from the down position to up\n",
    "                stage='up'\n",
    "                counter+=1\n",
    "                print(counter)\n",
    "                       \n",
    "        except:\n",
    "            pass\n",
    "        \n",
    "        #Render curl counter\n",
    "        #Setup status box\n",
    "        cv2.rectangle(image,(0,0),(225,73),(245,117,16),-1) #-1 makes it a color box\n",
    "        \n",
    "        #Rep data\n",
    "        #cv2.putText(image, data, startcoordinate, font, size of text, colour,linewidth, linetype )\n",
    "        cv2.putText(image, 'REPS', (15,12),\n",
    "                   cv2.FONT_HERSHEY_SIMPLEX,0.5, (0,0,0), 1, cv2.LINE_AA)\n",
    "        cv2.putText(image, str(counter) , (10,60),\n",
    "                   cv2.FONT_HERSHEY_SIMPLEX,2, (255,255,255), 2, cv2.LINE_AA)\n",
    "        \n",
    "        #Stage data\n",
    "        cv2.putText(image, 'STAGE', (65,12),\n",
    "                   cv2.FONT_HERSHEY_SIMPLEX,0.5, (0,0,0), 1, cv2.LINE_AA)\n",
    "        cv2.putText(image, stage , (65,60),\n",
    "                   cv2.FONT_HERSHEY_SIMPLEX,2, (255,255,255), 2, cv2.LINE_AA)\n",
    "        \n",
    "        #Render detections\n",
    "        mp_drawing.draw_landmarks(image, results.pose_landmarks, mp_pose.POSE_CONNECTIONS,\n",
    "                                mp_drawing.DrawingSpec(color=(245,117,16), thickness=2, circle_radius=2),\n",
    "                                mp_drawing.DrawingSpec(color=(245,66,230), thickness=2, circle_radius=2)\n",
    "                                 )\n",
    "        \n",
    "        \n",
    "        # Render detections\n",
    "        mp_drawing.draw_landmarks(image, results.pose_landmarks, mp_pose.POSE_CONNECTIONS,\n",
    "                                mp_drawing.DrawingSpec(color=(245,117,66), thickness=2, circle_radius=2), \n",
    "                                mp_drawing.DrawingSpec(color=(245,66,230), thickness=2, circle_radius=2) \n",
    "                                 )               \n",
    "        \n",
    "        cv2.imshow('Mediapipe Feed', image)\n",
    "\n",
    "        if cv2.waitKey(10) & 0xFF == ord('q'):\n",
    "            break\n",
    "\n",
    "    cap.release()\n",
    "    cv2.destroyAllWindows()"
   ]
  },
  {
   "cell_type": "code",
   "execution_count": null,
   "id": "7c23c499",
   "metadata": {},
   "outputs": [],
   "source": []
  }
 ],
 "metadata": {
  "kernelspec": {
   "display_name": "Python 3 (ipykernel)",
   "language": "python",
   "name": "python3"
  },
  "language_info": {
   "codemirror_mode": {
    "name": "ipython",
    "version": 3
   },
   "file_extension": ".py",
   "mimetype": "text/x-python",
   "name": "python",
   "nbconvert_exporter": "python",
   "pygments_lexer": "ipython3",
   "version": "3.10.0"
  }
 },
 "nbformat": 4,
 "nbformat_minor": 5
}
